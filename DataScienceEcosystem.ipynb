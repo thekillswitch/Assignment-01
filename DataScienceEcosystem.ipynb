{
 "cells": [
  {
   "cell_type": "markdown",
   "id": "04d3df30-d002-4c5a-8bb6-5fb4c2d3ce88",
   "metadata": {},
   "source": [
    "# Data Science Tools and Ecosystem"
   ]
  },
  {
   "cell_type": "markdown",
   "id": "60d09864-8550-4199-9e90-a4e136c628a6",
   "metadata": {},
   "source": [
    "In this Notebook, Data Science Tools and Ecosystems are summarised."
   ]
  },
  {
   "cell_type": "markdown",
   "id": "28a6ddcb-0640-4980-a932-e8d09acc049e",
   "metadata": {},
   "source": [
    "**Objectives**: \n",
    "- Popular languages\n",
    "- Commonly used libraries\n",
    "- Table\n",
    "- Arithmetic expressions"
   ]
  },
  {
   "cell_type": "markdown",
   "id": "710131bc-e241-470a-ae32-47107875c93e",
   "metadata": {},
   "source": [
    "Some of the popular languages that Data Scientists use are:\n",
    "1. Python\n",
    "2. R\n",
    "3. C++"
   ]
  },
  {
   "cell_type": "markdown",
   "id": "598e8903-7eed-4590-a166-a4dbacc2e36e",
   "metadata": {},
   "source": [
    "Some of the commonly used libraries used by Data Scientists include:\n",
    "1. NumPy\n",
    "2. Matplotlib\n",
    "3. SciPy\n"
   ]
  },
  {
   "cell_type": "markdown",
   "id": "d77d0a94-09c6-4f9d-833d-0941ca8174a5",
   "metadata": {},
   "source": [
    "|Data Science Tools|\n",
    "|------------------|\n",
    "|VS Code|\n",
    "|Storybook|\n",
    "|Gitlab|"
   ]
  },
  {
   "cell_type": "markdown",
   "id": "9ba83f40-45e9-4e5a-aef7-ca28e1874518",
   "metadata": {},
   "source": [
    "### Below are a few examples of evaluating arithmetic expressions in Python"
   ]
  },
  {
   "cell_type": "code",
   "execution_count": 1,
   "id": "88e130eb-2667-49f7-97a6-07f646e14037",
   "metadata": {
    "tags": []
   },
   "outputs": [
    {
     "data": {
      "text/plain": [
       "17"
      ]
     },
     "execution_count": 1,
     "metadata": {},
     "output_type": "execute_result"
    }
   ],
   "source": [
    "## This is a simple arithmetic expression to multiply then add integers\n",
    "(3*4)+5"
   ]
  },
  {
   "cell_type": "code",
   "execution_count": 2,
   "id": "242f99b7-142a-4ba4-bb52-533dd478eb2f",
   "metadata": {
    "tags": []
   },
   "outputs": [
    {
     "data": {
      "text/plain": [
       "3.3333333333333335"
      ]
     },
     "execution_count": 2,
     "metadata": {},
     "output_type": "execute_result"
    }
   ],
   "source": [
    "## This will convert 200 minutes to hours by dividing by 60\n",
    "200/60"
   ]
  },
  {
   "cell_type": "markdown",
   "id": "31d541ac-72d7-4953-8b88-95865393a594",
   "metadata": {},
   "source": [
    "## Author <br>\n",
    "Yogesh Pandey"
   ]
  }
